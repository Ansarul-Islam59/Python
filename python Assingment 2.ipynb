{
 "cells": [
  {
   "cell_type": "markdown",
   "id": "electronic-emphasis",
   "metadata": {},
   "source": [
    "# About Data Types\n",
    "● What is Data Type? \n",
    "Everything is an object in Python programming, data types are actually classes and variables are instance (object) of these classes."
   ]
  },
  {
   "cell_type": "markdown",
   "id": "loving-medicare",
   "metadata": {},
   "source": [
    "● Describe all Data Types with Example\n",
    "1.Python Numbers\n",
    "Integers, floating point numbers and complex numbers fall under Python numbers category. They are defined as int, float and complex classes in Python.\n",
    "\n",
    "We can use the type() function to know which class a variable or a value belongs to. Similarly, the isinstance() function is used to check if an object belongs to a particular class.\n",
    "2.Python List\n",
    "List is an ordered sequence of items. It is one of the most used datatype in Python and is very flexible. All the items in a list do not need to be of the same type.\n",
    "\n",
    "Declaring a list is pretty straight forward. Items separated by commas are enclosed within brackets [ ].\n",
    "3.Python Tuple\n",
    "Tuple is an ordered sequence of items same as a list. The only difference is that tuples are immutable. Tuples once created cannot be modified.\n",
    "\n",
    "Tuples are used to write-protect data and are usually faster than lists as they cannot change dynamically.\n",
    "\n",
    "It is defined within parentheses () where items are separated by commas.\n",
    "4.Python Strings\n",
    "String is sequence of Unicode characters. We can use single quotes or double quotes to represent strings. Multi-line strings can be denoted using triple quotes, ''' or \"\"\".\n",
    "5.Python Set\n",
    "Set is an unordered collection of unique items. Set is defined by values separated by comma inside braces { }. Items in a set are not ordered.\n"
   ]
  },
  {
   "cell_type": "markdown",
   "id": "tutorial-compatibility",
   "metadata": {},
   "source": [
    "# Input And Output "
   ]
  },
  {
   "cell_type": "markdown",
   "id": "fitting-compatibility",
   "metadata": {},
   "source": [
    "● Explain each parameter of print(*objects, sep=' ', end='\\n', file=sys.stdout, flush=False) \n"
   ]
  },
  {
   "cell_type": "markdown",
   "id": "allied-adolescent",
   "metadata": {},
   "source": [
    "\n",
    "The print() function is used to print objects to the text stream file, separated by sep and followed by end. sep, end and file, if present, must be given as keyword arguments.\n",
    "objects\t:Object to the printed. * indicates that there may be more than one object\n",
    "sep :\tObjects are separated by sep. Default value: ' '\n",
    "end :\tSpecify what to print at the end. Default is line feed ('\\n').\n",
    "file :\tAn object with write(string) method. Default: sys.stdout, which prints objects on the screen.\n",
    "flush :\tThe stream is forcibly flushed If flush is True. Default value: False\n",
    "\n"
   ]
  },
  {
   "cell_type": "markdown",
   "id": "stopped-blogger",
   "metadata": {},
   "source": [
    "# Operator \n",
    "What is a python operator? Describe at least three types of operator. \n",
    "\n",
    "Operators are special symbols in Python that carry out arithmetic or logical computation. The value that the operator operates on is called the operand.\n",
    "\n",
    "Arithmetic operators\n",
    "Arithmetic operators are used to perform mathematical operations like addition, subtraction, multiplication, etc.\n",
    "\n",
    "Comparison operators\n",
    "Comparison operators are used to compare values. It returns either True or False according to the condition.\n",
    "\n",
    "Logical operators\n",
    "\n",
    "Logical operators are the and, or, not operators"
   ]
  },
  {
   "cell_type": "markdown",
   "id": "funky-princess",
   "metadata": {},
   "source": [
    "# Problem 1 "
   ]
  },
  {
   "cell_type": "markdown",
   "id": "abstract-drink",
   "metadata": {},
   "source": [
    "#### Define a list with 7 elements and print the 3rd element of the list."
   ]
  },
  {
   "cell_type": "code",
   "execution_count": 1,
   "id": "embedded-change",
   "metadata": {},
   "outputs": [
    {
     "name": "stdout",
     "output_type": "stream",
     "text": [
      "3\n"
     ]
    }
   ],
   "source": [
    "L=[1,2,3,4,5,6,7]\n",
    "l1=L[2]\n",
    "print(l1)"
   ]
  },
  {
   "cell_type": "markdown",
   "id": "amateur-british",
   "metadata": {},
   "source": [
    "# Problem 2"
   ]
  },
  {
   "cell_type": "markdown",
   "id": "million-times",
   "metadata": {},
   "source": [
    "Take two input (say a and b) from user and print three lines where:\n",
    "The first line contains the sum of the two numbers.\n",
    "The second line contains the difference of the two numbers (first - second). 3. The third line contains the product of the two numbers."
   ]
  },
  {
   "cell_type": "code",
   "execution_count": 2,
   "id": "smoking-adoption",
   "metadata": {},
   "outputs": [
    {
     "name": "stdout",
     "output_type": "stream",
     "text": [
      "12\n",
      "8\n",
      "20\n"
     ]
    }
   ],
   "source": [
    "a=10\n",
    "b=2\n",
    "sum=a+b\n",
    "print(sum)\n",
    "difference=a-b\n",
    "print(difference)\n",
    "product=a*b\n",
    "print(product)"
   ]
  },
  {
   "cell_type": "markdown",
   "id": "given-estimate",
   "metadata": {},
   "source": [
    "# Problem 3"
   ]
  },
  {
   "cell_type": "markdown",
   "id": "floppy-flash",
   "metadata": {},
   "source": [
    "Take two inputs (say a and b) from the user and add logic to print two lines. The first line should contain the result of integer division . The second line should contain the result of float division."
   ]
  },
  {
   "cell_type": "code",
   "execution_count": 3,
   "id": "martial-accused",
   "metadata": {},
   "outputs": [
    {
     "name": "stdout",
     "output_type": "stream",
     "text": [
      "a // b = 3\n",
      "a / b = 3.75\n"
     ]
    }
   ],
   "source": [
    "a=15\n",
    "b=4\n",
    "#output: a // b = 3\n",
    "print('a // b =',a//b)\n",
    "# Output: a / b = 3.75\n",
    "print('a / b =',a/b)\n"
   ]
  },
  {
   "cell_type": "markdown",
   "id": "dynamic-shaft",
   "metadata": {},
   "source": [
    "# Problem 4 "
   ]
  },
  {
   "cell_type": "markdown",
   "id": "major-letters",
   "metadata": {},
   "source": [
    "● Write a Python program to display the first and last colors from the following list color_list = [\"Red\",\"Green\",\"White\" ,\"Black\"] "
   ]
  },
  {
   "cell_type": "code",
   "execution_count": 8,
   "id": "humanitarian-brighton",
   "metadata": {},
   "outputs": [
    {
     "name": "stdout",
     "output_type": "stream",
     "text": [
      "['Red', 'Black']\n"
     ]
    }
   ],
   "source": [
    "color_list = [\"Red\",\"Green\",\"White\" ,\"Black\"] \n",
    "color_list.remove(\"Green\")\n",
    "color_list.remove(\"White\")\n",
    "print(color_list)\n"
   ]
  },
  {
   "cell_type": "markdown",
   "id": "liable-biography",
   "metadata": {},
   "source": [
    "# Problem 5 \n"
   ]
  },
  {
   "cell_type": "markdown",
   "id": "relevant-setup",
   "metadata": {},
   "source": [
    "Write a Python program to print the following \n",
    "Sample string : \n",
    "a string that you \"don't\" have to escape \n",
    "This \n",
    "is a ....... multi-line \n",
    "heredoc string --------> example \n"
   ]
  },
  {
   "cell_type": "code",
   "execution_count": 1,
   "id": "banned-browse",
   "metadata": {},
   "outputs": [
    {
     "name": "stdout",
     "output_type": "stream",
     "text": [
      "\n",
      "a string that you \"don't\" have to escape\n",
      "This\n",
      "is a  ....... multi-line\n",
      "heredoc string --------> example\n",
      "\n"
     ]
    }
   ],
   "source": [
    "print(\"\"\"\n",
    "a string that you \"don't\" have to escape\n",
    "This\n",
    "is a  ....... multi-line\n",
    "heredoc string --------> example\n",
    "\"\"\")\n"
   ]
  },
  {
   "cell_type": "markdown",
   "id": "bound-comfort",
   "metadata": {},
   "source": [
    "# Problem 6 \n"
   ]
  },
  {
   "cell_type": "markdown",
   "id": "civic-columbus",
   "metadata": {},
   "source": [
    "Write a Python program that will accept the base and height of a triangle and compute the area. \n"
   ]
  },
  {
   "cell_type": "code",
   "execution_count": 9,
   "id": "strong-conversion",
   "metadata": {},
   "outputs": [
    {
     "name": "stdout",
     "output_type": "stream",
     "text": [
      "Input the base : 20\n",
      "Input the height : 40\n",
      "area =  400.0\n"
     ]
    }
   ],
   "source": [
    "b = int(input(\"Input the base : \"))\n",
    "h = int(input(\"Input the height : \"))\n",
    "\n",
    "area = b*h/2\n",
    "\n",
    "print(\"area = \", area)\n",
    "\n",
    "\n",
    "\n",
    "\n"
   ]
  },
  {
   "cell_type": "markdown",
   "id": "defensive-illustration",
   "metadata": {},
   "source": [
    "# Problem 7 \n"
   ]
  },
  {
   "cell_type": "markdown",
   "id": "vocational-munich",
   "metadata": {},
   "source": [
    "Write a Python program to display your details like name, age, address in three different lines.\n"
   ]
  },
  {
   "cell_type": "code",
   "execution_count": 4,
   "id": "pointed-powell",
   "metadata": {},
   "outputs": [
    {
     "name": "stdout",
     "output_type": "stream",
     "text": [
      "My name is AnSARUL Islam\n",
      "I am  20 years old\n",
      "I live inMymensingh\n"
     ]
    }
   ],
   "source": [
    "name=\"AnSARUL Islam\"\n",
    "address=\"Mymensingh\"\n",
    "age=20\n",
    "print(\"My name is \"+name)\n",
    "print(\"I am \" ,age, \"years old\")\n",
    "print(\"I live in\"+address)\n",
    "\n",
    "\n",
    "\n",
    "\n"
   ]
  },
  {
   "cell_type": "markdown",
   "id": "statewide-giving",
   "metadata": {},
   "source": [
    "# Problem 8 \n"
   ]
  },
  {
   "cell_type": "markdown",
   "id": "paperback-georgia",
   "metadata": {},
   "source": [
    "Python Program for compound interest. \n",
    "Formula to calculate compound interest annually is given by: A = P(1 + R/100) t \n",
    "Compound Interest = A – P \n",
    "Where, \n",
    "A is amount \n",
    "P is principle amount \n",
    "R is the rate and \n",
    "T is the time span "
   ]
  },
  {
   "cell_type": "code",
   "execution_count": 11,
   "id": "labeled-halifax",
   "metadata": {},
   "outputs": [
    {
     "name": "stdout",
     "output_type": "stream",
     "text": [
      "Compound interest is 6288.946267774416\n"
     ]
    }
   ],
   "source": [
    "def compound_interest(principle, rate, time): \n",
    "  \n",
    "    # Calculates compound interest  \n",
    "    Amount = principle * (pow((1 + rate / 100), time)) \n",
    "    CI = Amount - principle \n",
    "    print(\"Compound interest is\", CI) \n",
    "  \n",
    "# Driver Code  \n",
    "compound_interest(10000, 10.25, 5) \n",
    "  "
   ]
  },
  {
   "cell_type": "code",
   "execution_count": null,
   "id": "opposed-network",
   "metadata": {},
   "outputs": [],
   "source": []
  },
  {
   "cell_type": "markdown",
   "id": "municipal-preference",
   "metadata": {},
   "source": [
    "# Problem 9 \n"
   ]
  },
  {
   "cell_type": "markdown",
   "id": "metallic-cocktail",
   "metadata": {},
   "source": [
    "Print output like this \n",
    "* * * * * \n",
    "* * * * \n",
    "* * * \n",
    "* * \n",
    "*\n"
   ]
  },
  {
   "cell_type": "code",
   "execution_count": 2,
   "id": "normal-tribune",
   "metadata": {},
   "outputs": [
    {
     "name": "stdout",
     "output_type": "stream",
     "text": [
      "* * * * *\n",
      "* * * *\n",
      "* * *\n",
      "* *\n",
      "*\n"
     ]
    }
   ],
   "source": [
    "print(\"* * * * *\")\n",
    "print(\"* * * *\")\n",
    "print(\"* * *\")\n",
    "print(\"* *\")\n",
    "print(\"*\")"
   ]
  },
  {
   "cell_type": "code",
   "execution_count": null,
   "id": "resident-crazy",
   "metadata": {},
   "outputs": [],
   "source": []
  },
  {
   "cell_type": "markdown",
   "id": "personalized-moment",
   "metadata": {},
   "source": [
    "# Problem 10 \n"
   ]
  },
  {
   "cell_type": "markdown",
   "id": "fundamental-detroit",
   "metadata": {},
   "source": [
    "Python Program to Convert Celsius To Fahrenheit. \n",
    "Hints : celsius * 1.8 = fahrenheit - 32 \n"
   ]
  },
  {
   "cell_type": "code",
   "execution_count": 12,
   "id": "involved-staff",
   "metadata": {},
   "outputs": [
    {
     "name": "stdout",
     "output_type": "stream",
     "text": [
      "Enter the temperature in celcius:33\n",
      "Temperature in farenheit is: 91.4\n"
     ]
    }
   ],
   "source": [
    "celsius=int(input(\"Enter the temperature in celcius:\"))\n",
    "f=(celsius*1.8)+32\n",
    "print(\"Temperature in farenheit is:\",f)"
   ]
  },
  {
   "cell_type": "code",
   "execution_count": null,
   "id": "documentary-general",
   "metadata": {},
   "outputs": [],
   "source": []
  }
 ],
 "metadata": {
  "kernelspec": {
   "display_name": "Python 3",
   "language": "python",
   "name": "python3"
  },
  "language_info": {
   "codemirror_mode": {
    "name": "ipython",
    "version": 3
   },
   "file_extension": ".py",
   "mimetype": "text/x-python",
   "name": "python",
   "nbconvert_exporter": "python",
   "pygments_lexer": "ipython3",
   "version": "3.9.2"
  }
 },
 "nbformat": 4,
 "nbformat_minor": 5
}
