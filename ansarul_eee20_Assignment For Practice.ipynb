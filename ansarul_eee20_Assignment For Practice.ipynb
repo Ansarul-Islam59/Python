{
 "cells": [
  {
   "cell_type": "markdown",
   "id": "packed-douglas",
   "metadata": {},
   "source": [
    "# 1) 1. Write a Python program to find those numbers which are divisible by 8 and 3 but multiple of 9, between 1000 and 1800 (both included).\n",
    "\n"
   ]
  },
  {
   "cell_type": "code",
   "execution_count": 1,
   "id": "executed-density",
   "metadata": {},
   "outputs": [
    {
     "name": "stdout",
     "output_type": "stream",
     "text": [
      "['1008', '1080', '1152', '1224', '1296', '1368', '1440', '1512', '1584', '1656', '1728', '1800']\n"
     ]
    }
   ],
   "source": [
    "n=[]\n",
    "for i in range (1000,1801) :\n",
    "    if(i%8 ==0) and (i%3 ==0) and (i%9 ==0):\n",
    "        n.append(str(i))\n",
    "print(n)        "
   ]
  },
  {
   "cell_type": "markdown",
   "id": "toxic-director",
   "metadata": {},
   "source": [
    "# 2) touple = ('I','E','E','E','H','S','T','U','S','B')\n",
    "Using this touple, write a program whose output will be IEEE HSTU SB.\n"
   ]
  },
  {
   "cell_type": "code",
   "execution_count": 4,
   "id": "acknowledged-ministry",
   "metadata": {},
   "outputs": [
    {
     "name": "stdout",
     "output_type": "stream",
     "text": [
      "IEEE HSTU SB\n"
     ]
    }
   ],
   "source": [
    "a_tuple = (\"I\",\"E\",\"E\",\"E\",\"H\",\"S\",\"T\",\"U\",\"S\",\"B\")\n",
    "\n",
    "a = \"\".join(a_tuple[:4])\n",
    "b=\"\".join(a_tuple[4:8])\n",
    "c=\"\".join(a_tuple[8:10])\n",
    "\n",
    "print(a,b,c)"
   ]
  },
  {
   "cell_type": "code",
   "execution_count": null,
   "id": "renewable-explanation",
   "metadata": {},
   "outputs": [],
   "source": []
  },
  {
   "cell_type": "markdown",
   "id": "silver-mills",
   "metadata": {},
   "source": [
    "# 3) Write a Python program to check a triangle is equilateral, isosceles or scalene.\n",
    "Note :\n",
    "An equilateral triangle is a triangle in which all three sides are equal.\n",
    "A scalene triangle is a triangle that has three unequal sides.\n",
    "An isosceles triangle is a triangle with (at least) two equal sides.\n"
   ]
  },
  {
   "cell_type": "code",
   "execution_count": 2,
   "id": "manual-dating",
   "metadata": {},
   "outputs": [
    {
     "name": "stdout",
     "output_type": "stream",
     "text": [
      "Input lengths of the triangle sides: \n",
      "x: 10\n",
      "y: 10\n",
      "z: 10\n",
      "Equilateral triangle\n"
     ]
    }
   ],
   "source": [
    "print(\"Input lengths of the triangle sides: \")\n",
    "x = int(input(\"x: \"))\n",
    "y = int(input(\"y: \"))\n",
    "z = int(input(\"z: \"))\n",
    "\n",
    "if x == y == z:\n",
    "\tprint(\"Equilateral triangle\")\n",
    "elif x==y or y==z or z==x:\n",
    "\tprint(\"isosceles triangle\")\n",
    "else:\n",
    "\tprint(\"Scalene triangle\")\n"
   ]
  },
  {
   "cell_type": "markdown",
   "id": "stupid-curtis",
   "metadata": {},
   "source": [
    "# 4) Write a Python program to create the multiplication table (from 1 to 10) of a number."
   ]
  },
  {
   "cell_type": "code",
   "execution_count": 1,
   "id": "democratic-produce",
   "metadata": {},
   "outputs": [
    {
     "name": "stdout",
     "output_type": "stream",
     "text": [
      "Input a number: 5\n",
      "5 x 1 = 5\n",
      "5 x 2 = 10\n",
      "5 x 3 = 15\n",
      "5 x 4 = 20\n",
      "5 x 5 = 25\n",
      "5 x 6 = 30\n",
      "5 x 7 = 35\n",
      "5 x 8 = 40\n",
      "5 x 9 = 45\n",
      "5 x 10 = 50\n"
     ]
    }
   ],
   "source": [
    "n = int(input(\"Input a number: \"))\n",
    "\n",
    "# use for loop to iterate 10 times\n",
    "for i in range(1,11):\n",
    "   print(n,'x',i,'=',n*i)"
   ]
  },
  {
   "cell_type": "markdown",
   "id": "tested-installation",
   "metadata": {},
   "source": [
    "# 5) Write a python program to check whether a given year is a leap year\n"
   ]
  },
  {
   "cell_type": "code",
   "execution_count": 2,
   "id": "secure-decrease",
   "metadata": {},
   "outputs": [
    {
     "name": "stdout",
     "output_type": "stream",
     "text": [
      "Enter year to be checked:2020\n",
      "The year is a leap year!\n"
     ]
    }
   ],
   "source": [
    "year=int(input(\"Enter year to be checked:\"))\n",
    "if(year%4==0 and year%100!=0 or year%400==0):\n",
    "    print(\"The year is a leap year!\")\n",
    "else:\n",
    "    print(\"The year isn't a leap year!\")"
   ]
  },
  {
   "cell_type": "markdown",
   "id": "listed-region",
   "metadata": {},
   "source": [
    "# 6) Write the programs to get the areas of a) triangle, b)Rectangle, c) circle."
   ]
  },
  {
   "cell_type": "code",
   "execution_count": 3,
   "id": "lesser-blind",
   "metadata": {},
   "outputs": [
    {
     "name": "stdout",
     "output_type": "stream",
     "text": [
      "Please enter the correct spelling in lowercase\n",
      "Enter a shape name amongst triangle, rectangle, circle for which you want to calculagte the area: circle\n",
      "Enter circle's radius:8\n",
      "Area of circle:  192\n"
     ]
    }
   ],
   "source": [
    "print(\"Please enter the correct spelling in lowercase\")\n",
    "shape = input(\"Enter a shape name amongst triangle, rectangle, circle for which you want to calculagte the area: \")\n",
    "    \n",
    "if shape == \"triangle\":\n",
    "    h = int(input(\"Enter triangle's height: \"))\n",
    "    w = int(input(\"Enter triangle's base: \"))\n",
    "    triangle_area = print(\"Area of tringle: \",1/2*int(h)*int(w))\n",
    "\n",
    "elif shape == \"rectangle\":\n",
    "    l = int(input(\"Enter rectangle's length\"))\n",
    "    b = int(input(\"Enter rectangle's weight\"))\n",
    "    rectangle_area = print(\"Area of rectangle: \",int(l)*int(b))\n",
    "\n",
    "elif shape == \"circle\":\n",
    "    r = int(input(\"Enter circle's radius:\"))\n",
    "    pi = 3.14\n",
    "    circle_area = print(\"Area of circle: \", int(pi)*int(r)*int(r))\n",
    "else:\n",
    "          print(f\"Sorry! This shape is not aailable\")\n",
    "  "
   ]
  },
  {
   "cell_type": "code",
   "execution_count": null,
   "id": "proprietary-chain",
   "metadata": {},
   "outputs": [],
   "source": [
    " "
   ]
  },
  {
   "cell_type": "code",
   "execution_count": null,
   "id": "stretch-minute",
   "metadata": {},
   "outputs": [],
   "source": []
  },
  {
   "cell_type": "code",
   "execution_count": null,
   "id": "common-ridge",
   "metadata": {},
   "outputs": [],
   "source": []
  }
 ],
 "metadata": {
  "kernelspec": {
   "display_name": "Python 3",
   "language": "python",
   "name": "python3"
  },
  "language_info": {
   "codemirror_mode": {
    "name": "ipython",
    "version": 3
   },
   "file_extension": ".py",
   "mimetype": "text/x-python",
   "name": "python",
   "nbconvert_exporter": "python",
   "pygments_lexer": "ipython3",
   "version": "3.9.2"
  }
 },
 "nbformat": 4,
 "nbformat_minor": 5
}
