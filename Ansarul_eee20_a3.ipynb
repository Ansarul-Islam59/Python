{
 "cells": [
  {
   "cell_type": "markdown",
   "id": "documentary-prevention",
   "metadata": {},
   "source": [
    "# About Flow Control \n"
   ]
  },
  {
   "cell_type": "markdown",
   "id": "competent-postage",
   "metadata": {},
   "source": [
    "● What is flow control? \n",
    "A program’s control flow is the order in which the program’s code executes. The control flow of a Python program is regulated by conditional statements, loops, and function calls. \n",
    "\n",
    "● List all flow control with example \n",
    "\n",
    "There are 6 different types of flow control statements available in Python:\n",
    "1.if-else\n",
    "2.Nested if-else\n",
    "3.for\n",
    "4.while\n",
    "5.break\n",
    "6.Continue\n",
    "\n",
    "1.if-else\n",
    " \n",
    "If-else is used for decision making; when code statements satisfy the condition, then it will return non-zero values as true, or else zero or NONE value as false, by the Python interpreter.\n",
    " \n",
    "Syntax\n",
    "if(<condition>):    \n",
    "    Statement 1    \n",
    "    ...    \n",
    "else:    \n",
    "    Statement 2    \n",
    "    ...   \n",
    "2.Nested if-else\n",
    " \n",
    "With if...elif...else, elif is a shortened form of else if. It works the same as 'if' statements, where the if block condition is false then it checks to elif blocks. If all blocks are false, then it executes an else statement. There are multiple elif blocks possible for a Nested if...else.\n",
    " \n",
    "Syntax\n",
    "if  (<condition 1>):    \n",
    "    Statement 1    \n",
    "    ...    \n",
    "elif (<condition 2>):    \n",
    "    Statement 2    \n",
    "    ...    \n",
    "else    \n",
    "    Statement 3    \n",
    "    ...   \n",
    "    \n",
    "3.for Statement\n",
    " \n",
    "The for loop statement has variable iteration in a sequence(list, tuple or string) and executes statements until the loop does not reach the false condition.\n",
    " \n",
    "Syntax\n",
    "for value in sequence:    \n",
    "    ...body statement of for \n",
    "4.while loop\n",
    " \n",
    "A while loop is used in python to iterate over the block of expression which matches to true. Non-zero values are True and zero and negative values are False, as interpreted in Python.\n",
    " \n",
    "Syntax\n",
    "while(<condition>):    \n",
    "    statement 1.. \n",
    "5.Break statement\n",
    " \n",
    "The Python Break statement is used to break a loop in a certain condition. It terminates the loop. Also, we can use it inside the loop then it will first terminate the innermost loop.\n",
    " \n",
    "Syntax\n",
    " \n",
    "I. break\n",
    " \n",
    "II. with for loop\n",
    "for value in sequence:    \n",
    "    ...body statement of for    \n",
    "    if(<condition>):    \n",
    "       break    \n",
    "    ...body statement of for loop    \n",
    "      \n",
    "...body statement outside of for loop   \n",
    "6.Continue Statement\n",
    " \n",
    "A continue statement won’t continue the loop, it executes statements until the condition matches True.\n",
    " \n",
    "Syntax\n",
    " \n",
    "I. continue\n",
    " \n",
    "II. with for loop\n",
    "for value in sequence:    \n",
    "    ...body statement of for    \n",
    "    if(<condition>):    \n",
    "        continue    \n",
    "    ...body statement of for loop    \n",
    "    \n",
    "...body statement outside of for loop \n"
   ]
  },
  {
   "cell_type": "markdown",
   "id": "referenced-anger",
   "metadata": {},
   "source": [
    "# Conditional statement \n"
   ]
  },
  {
   "cell_type": "markdown",
   "id": "italian-philadelphia",
   "metadata": {},
   "source": [
    "● What is conditional statement \n",
    "Conditional Statement in Python perform different computations or actions depending on whether a specific Boolean constraint evaluates to true or false. Conditional statements are handled by IF statements in Python.\n",
    "\n",
    "● Describe structure of conditional statement\n",
    "\n",
    "A conditional statement uses a syntax structure based on if and else statements (each ending with a colon :) that define the potential actions that can be completed based on whether the condition is true or not:\n",
    "\n",
    "if condition:\n",
    "    some code here\n",
    "else:\n",
    "    some other code here\n",
    "If the condition provided with the if statement is satisfied (i.e. results in a value of True), then a certain code will execute. If that condition is not met (i.e. results in a value of False), then the code provided with the else statement will execute.\n",
    "\n",
    "\n",
    "\n"
   ]
  },
  {
   "cell_type": "markdown",
   "id": "worthy-clock",
   "metadata": {},
   "source": [
    "# Problem 1 \n",
    "● Take input from a user and check whether the number is odd or even? \n"
   ]
  },
  {
   "cell_type": "code",
   "execution_count": 2,
   "id": "aggregate-navigation",
   "metadata": {},
   "outputs": [
    {
     "name": "stdout",
     "output_type": "stream",
     "text": [
      "Enter a number: 20\n",
      "20 is Even number\n"
     ]
    }
   ],
   "source": [
    "num = int(input(\"Enter a number: \"))  \n",
    "if (num % 2) == 0:  \n",
    "   print(\"{0} is Even number\".format(num))  \n",
    "else:  \n",
    "   print(\"{0} is Odd number\".format(num))  \n"
   ]
  },
  {
   "cell_type": "markdown",
   "id": "sought-river",
   "metadata": {},
   "source": [
    "# Problem 2 \n",
    "● Take integer input from user, say a \n",
    "1. Print number of sample, if 100 <= a < 200, and a is divisible by 9 \n",
    "2. Display those numbers which are divisible by 7 and multiple of 5, between 500 and 100 \n",
    "\n"
   ]
  },
  {
   "cell_type": "code",
   "execution_count": null,
   "id": "lesser-monaco",
   "metadata": {},
   "outputs": [],
   "source": [
    "\n"
   ]
  },
  {
   "cell_type": "code",
   "execution_count": 1,
   "id": "mathematical-daisy",
   "metadata": {},
   "outputs": [
    {
     "name": "stdout",
     "output_type": "stream",
     "text": [
      "Enter a number : 150\n",
      "In range but not devided by 9 \n",
      "Enter a number :300\n",
      "It doesn't satisfies the condition \n"
     ]
    }
   ],
   "source": [
    "#1\n",
    "a = int(input(\"Enter a number : \"))\n",
    "if a>=100 and a<200 :\n",
    "    if a % 9 == 0 :\n",
    "         print(\"It satisfies the condition \")\n",
    "    else:\n",
    "        print(\"In range but not devided by 9 \")         \n",
    "else :\n",
    "    print(\"Not in rnge \")\n",
    "        \n",
    "   \n",
    "#2\n",
    "\n",
    "c= int(input(\"Enter a number :\"))\n",
    "if c>=100 and c<=500 :\n",
    "    if c%7 == 0 and  c% 5 ==0 :\n",
    "        print(\"It satisfies the condition \")\n",
    "    else :\n",
    "        print(\"It doesn't satisfies the condition \")\n",
    "else :\n",
    "    print(\"Not in range \")\n",
    "\n",
    "\n",
    "\n"
   ]
  },
  {
   "cell_type": "markdown",
   "id": "emerging-source",
   "metadata": {},
   "source": [
    "# Problem 3 \n",
    "● Take year as a integer input from a user, \n",
    "○ check whether the year is leap year or not? \n",
    "\n"
   ]
  },
  {
   "cell_type": "code",
   "execution_count": 4,
   "id": "leading-literature",
   "metadata": {},
   "outputs": [
    {
     "name": "stdout",
     "output_type": "stream",
     "text": [
      "2000 is a leap year\n"
     ]
    }
   ],
   "source": [
    "year = 2000\n",
    "if (year % 4) == 0:\n",
    "   if (year % 100) == 0:\n",
    "       if (year % 400) == 0:\n",
    "           print(\"{0} is a leap year\".format(year))\n",
    "       else:\n",
    "           print(\"{0} is not a leap year\".format(year))\n",
    "   else:\n",
    "       print(\"{0} is a leap year\".format(year))\n",
    "else:\n",
    "   print(\"{0} is not a leap year\".format(year))\n",
    "\n",
    "\n",
    "\n"
   ]
  },
  {
   "cell_type": "markdown",
   "id": "swedish-rugby",
   "metadata": {},
   "source": [
    "# Problem 4 \n",
    "● Make a simple calculator (function : +, -, * and /) \n",
    "○ Take three input from a user, say, input1, input2, input3 \n",
    "○ input 1 represents arithmetic sing ( +, -, * and /) \n",
    "○ Input 2 and input 3 represent number \n",
    "○ Display arithmetic output of input 2 and input 3 based on input 1\n"
   ]
  },
  {
   "cell_type": "code",
   "execution_count": 4,
   "id": "aquatic-holder",
   "metadata": {},
   "outputs": [
    {
     "name": "stdout",
     "output_type": "stream",
     "text": [
      "Enter a arithmetic sign : /\n",
      "Enter 1st number :6\n",
      "Enter 2nd number 5\n",
      "6 / 5 = 1.2\n"
     ]
    }
   ],
   "source": [
    "i1= input(\"Enter a arithmetic sign : \")\n",
    "i2= int(input(\"Enter 1st number :\"))\n",
    "i3= int(input(\"Enter 2nd number \"))\n",
    "if i1 == \"+\" :\n",
    "    print(i2,\"+\",i3,\"=\",i2+i3)\n",
    "elif i1 == \"-\" :\n",
    "    print(i2,\"-\",i3<\"=\",i2-i3)\n",
    "elif i1 == \"*\" :\n",
    "    print(i2,\"*\",i3,\"=\",i2*i3)\n",
    "elif i1 == \"/\" :\n",
    "    print(i2,\"/\",i3,\"=\",i2/i3)\n",
    "else :\n",
    "    print(\"Invalid Operator\")\n"
   ]
  },
  {
   "cell_type": "markdown",
   "id": "forbidden-anger",
   "metadata": {},
   "source": [
    "# Problem 5 \n",
    "● Take a number from a user, check if the number is positive or negative or zero and display an appropriate message \n"
   ]
  },
  {
   "cell_type": "code",
   "execution_count": 5,
   "id": "alive-value",
   "metadata": {},
   "outputs": [
    {
     "name": "stdout",
     "output_type": "stream",
     "text": [
      "Enter a number: 21\n",
      "Positive number\n"
     ]
    }
   ],
   "source": [
    "num = float(input(\"Enter a number: \"))\n",
    "if num > 0:\n",
    "   print(\"Positive number\")\n",
    "elif num == 0:\n",
    "   print(\"Zero\")\n",
    "else:\n",
    "   print(\"Negative number\")"
   ]
  },
  {
   "cell_type": "markdown",
   "id": "union-structure",
   "metadata": {},
   "source": [
    "# Problem 6 \n",
    "● Take values of length and breadth of a rectangle from a user and check if it is square or not. \n"
   ]
  },
  {
   "cell_type": "code",
   "execution_count": 7,
   "id": "junior-prior",
   "metadata": {},
   "outputs": [
    {
     "name": "stdout",
     "output_type": "stream",
     "text": [
      "enter the length of the figure 12\n",
      "enter the breadth of the figure 10\n",
      "the figure is not a square\n"
     ]
    }
   ],
   "source": [
    "l=eval(input(\"enter the length of the figure\"))\n",
    "\n",
    "b=eval(input(\"enter the breadth of the figure\"))\n",
    "\n",
    "if l==b:\n",
    "\n",
    "   print(\"the figure is a square\")\n",
    "\n",
    "else:\n",
    "\n",
    "   print(\"the figure is not a square\")"
   ]
  },
  {
   "cell_type": "markdown",
   "id": "short-footage",
   "metadata": {},
   "source": [
    "# Problem 7 \n",
    "● Take three int values from a user and display the highest and lowest number among them. \n"
   ]
  },
  {
   "cell_type": "code",
   "execution_count": 10,
   "id": "chubby-joyce",
   "metadata": {},
   "outputs": [
    {
     "name": "stdout",
     "output_type": "stream",
     "text": [
      "Enter first number: 10\n",
      "Enter second number: 12\n",
      "Enter third number: 20\n",
      "The largest number is 20.0\n",
      "The lowest number is 10.0\n"
     ]
    }
   ],
   "source": [
    "num1 = float(input(\"Enter first number: \"))\n",
    "num2 = float(input(\"Enter second number: \"))\n",
    "num3 = float(input(\"Enter third number: \"))\n",
    "\n",
    "if (num1 >= num2) and (num1 >= num3):\n",
    "   largest = num1\n",
    "elif (num2 >= num1) and (num2 >= num3):\n",
    "   largest = num2\n",
    "else:\n",
    "   largest = num3\n",
    "\n",
    "print(\"The largest number is\", largest)\n",
    "\n",
    "if (num1<num2) and (num1<num3):\n",
    "    lowest=num1\n",
    "elif (num2<num3):\n",
    "    lowest=num2\n",
    "else:\n",
    "    lowset=num3\n",
    "print(\"The lowest number is\", lowest)\n",
    "\n"
   ]
  },
  {
   "cell_type": "markdown",
   "id": "precious-measure",
   "metadata": {},
   "source": [
    "# Problem 8 \n",
    "● Ask a user to enter marks and print the corresponding grade.\n",
    "○ Hints \n",
    "■ Below 30 - F \n",
    "■ b. 30 to 35 - D \n",
    "■ c. 35 to 40 - C \n",
    "○ Grading should follow hstu grading structure \n"
   ]
  },
  {
   "cell_type": "code",
   "execution_count": 14,
   "id": "severe-dayton",
   "metadata": {},
   "outputs": [
    {
     "name": "stdout",
     "output_type": "stream",
     "text": [
      "Enter marks of the first subject: 33\n",
      "Enter marks of the second subject: 32\n",
      "Enter marks of the third subject: 35\n",
      "Grade: D\n"
     ]
    }
   ],
   "source": [
    "sub1=int(input(\"Enter marks of the first subject: \"))\n",
    "sub2=int(input(\"Enter marks of the second subject: \"))\n",
    "sub3=int(input(\"Enter marks of the third subject: \"))\n",
    "avg=(sub1+sub2+sub3)/3\n",
    "if(avg<30):\n",
    "    print(\"Grade: F\")\n",
    "elif(30<avg<35):\n",
    "    print(\"Grade: D\")\n",
    "elif(35<avg<40):\n",
    "    print(\"Grade: C\")\n"
   ]
  },
  {
   "cell_type": "code",
   "execution_count": null,
   "id": "previous-apollo",
   "metadata": {},
   "outputs": [],
   "source": []
  },
  {
   "cell_type": "code",
   "execution_count": null,
   "id": "fatty-effect",
   "metadata": {},
   "outputs": [],
   "source": []
  },
  {
   "cell_type": "code",
   "execution_count": null,
   "id": "cheap-philadelphia",
   "metadata": {},
   "outputs": [],
   "source": []
  }
 ],
 "metadata": {
  "kernelspec": {
   "display_name": "Python 3",
   "language": "python",
   "name": "python3"
  },
  "language_info": {
   "codemirror_mode": {
    "name": "ipython",
    "version": 3
   },
   "file_extension": ".py",
   "mimetype": "text/x-python",
   "name": "python",
   "nbconvert_exporter": "python",
   "pygments_lexer": "ipython3",
   "version": "3.9.2"
  }
 },
 "nbformat": 4,
 "nbformat_minor": 5
}
